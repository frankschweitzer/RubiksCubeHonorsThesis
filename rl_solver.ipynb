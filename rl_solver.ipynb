{
 "cells": [
  {
   "cell_type": "code",
   "execution_count": 47,
   "metadata": {},
   "outputs": [],
   "source": [
    "import numpy as np\n",
    "import random\n",
    "import math\n",
    "import copy\n",
    "\n",
    "from rubik.cube import Cube\n",
    "\n",
    "from collections import deque\n",
    "import tensorflow as tf"
   ]
  },
  {
   "cell_type": "markdown",
   "metadata": {},
   "source": [
    "**Cube Environment**"
   ]
  },
  {
   "cell_type": "code",
   "execution_count": 101,
   "metadata": {},
   "outputs": [],
   "source": [
    "def move(state: Cube, face):\n",
    "    if face == 0:\n",
    "        state.sequence('U')\n",
    "        return state, 0\n",
    "            \n",
    "    elif face == 1:\n",
    "        state.sequence('D')\n",
    "        return state, 1\n",
    "        \n",
    "    elif face == 2:\n",
    "        state.sequence('F')\n",
    "        return state, 2\n",
    "        \n",
    "    elif face == 3:\n",
    "        state.sequence('B')\n",
    "        return state, 3\n",
    "        \n",
    "    elif face == 4:\n",
    "        state.sequence('L')\n",
    "        return state, 4\n",
    "        \n",
    "    elif face == 5:\n",
    "        state.sequence('R')\n",
    "        return state, 5\n",
    "        \n",
    "def scramble(c, num):\n",
    "    for n in range(num):\n",
    "        c, _ = move(c, random.randint(0, 5))\n",
    "    return c\n",
    "\n",
    "def one_hot(c):\n",
    "    colors = ['w', 'o', 'g', 'r', 'b', 'y']  # Assuming 'w' for white, 'o' for orange, 'g' for green, 'r' for red, 'b' for blue, 'y' for yellow\n",
    "    cube_size = 9  # Assuming a 3x3 Rubik's Cube\n",
    "\n",
    "    # Initialize an empty one-hot encoded cube state\n",
    "    one_hot_cube = []\n",
    "\n",
    "    # Iterate over the cube representation\n",
    "    for cubelet in c:\n",
    "        # Initialize a one-hot vector for the current cubelet\n",
    "        one_hot_cubelet = [0] * (len(colors) * cube_size)\n",
    "\n",
    "        # Calculate the position index for the current cubelet\n",
    "        position_index = colors.index(cubelet) * cube_size\n",
    "\n",
    "        # Set the corresponding element in the one-hot vector to 1\n",
    "        one_hot_cubelet[position_index] = 1\n",
    "\n",
    "        # Append the one-hot vector for the current cubelet to the one-hot encoded cube state\n",
    "        one_hot_cube.extend(one_hot_cubelet)\n",
    "\n",
    "    return one_hot_cube\n",
    "\n",
    "def is_solved(c):\n",
    "    return c.is_solved()"
   ]
  },
  {
   "cell_type": "markdown",
   "metadata": {},
   "source": [
    "**Neural Network**"
   ]
  },
  {
   "cell_type": "code",
   "execution_count": 103,
   "metadata": {},
   "outputs": [],
   "source": [
    "class NeuralNetwork:\n",
    "        \n",
    "        def __init__(self):\n",
    "            self.create_model()\n",
    "        \n",
    "        def create_model(self):\n",
    "            self.model = tf.keras.models.Sequential()\n",
    "            self.model.add(tf.keras.layers.Dense(24, input_dim=54, activation='relu'))\n",
    "            self.model.add(tf.keras.layers.Dense(24, activation='relu'))\n",
    "            self.model.add(tf.keras.layers.Dense(12, activation='softmax'))\n",
    "            self.model.compile(loss='mse', optimizer=tf.keras.optimizers.Adam(0.01))\n",
    "            \n",
    "        def __call__(self):\n",
    "            return self.model\n",
    "        \n",
    "        def preprocess(self, game, discount):\n",
    "            processed_out = []\n",
    "\n",
    "            for l in range(0, len(game)):\n",
    "                processed_out.append(np.asarray(game[l])*(discount**(len(game) - l - 1))) # reward dep\n",
    "\n",
    "            return processed_out\n",
    "        \n",
    "        def train(self, games, e_greedy, epochs, discount):\n",
    "            instance = Cube('WWWWWWWWWOOOGGGRRRBBBOOOGGGRRRBBBOOOGGGRRRBBBYYYYYYYYY')\n",
    "\n",
    "            long_states = []\n",
    "            long_actions = []\n",
    "            \n",
    "            for i in range(games):\n",
    "                states = []\n",
    "                actions = []\n",
    "                counter = 0\n",
    "                \n",
    "                # generate a random scramble\n",
    "                instance = scramble(instance, 100)\n",
    "                \n",
    "                # iterate while the cube is not solved\n",
    "                while not is_solved(instance):\n",
    "                    states.append(one_hot(instance))\n",
    "\n",
    "                    if random.uniform(0,1) <= e_greedy:\n",
    "                        sampled = scramble(instance, 1)\n",
    "                        act = np.zeros(12)\n",
    "                        act[sampled] = 1\n",
    "                    else:\n",
    "                        pre = self.model.predict(np.asarray([one_hot(instance)]))[0]\n",
    "                        best = np.argmax(pre)\n",
    "                        act = np.zeros(12)\n",
    "                        instance, _ = move(instance, math.floor(best / 2))\n",
    "                        act[best] = 1\n",
    "                    \n",
    "                    actions.append(act)\n",
    "                    \n",
    "                    counter += 1\n",
    "                \n",
    "                long_states.extend(copy.deepcopy(states))\n",
    "                long_actions.extend(copy.deepcopy(self.preprocess(actions, discount)))\n",
    "            \n",
    "            self.model.fit(np.asarray(long_states), np.asarray(long_actions), batch_size=len(long_states), epochs=10)"
   ]
  },
  {
   "cell_type": "markdown",
   "metadata": {},
   "source": [
    "**Reinforcement Learning**"
   ]
  },
  {
   "cell_type": "code",
   "execution_count": 104,
   "metadata": {},
   "outputs": [
    {
     "name": "stderr",
     "output_type": "stream",
     "text": [
      "/Users/frankschweitzer/anaconda3/envs/RubikCube/lib/python3.11/site-packages/keras/src/layers/core/dense.py:88: UserWarning: Do not pass an `input_shape`/`input_dim` argument to a layer. When using Sequential models, prefer using an `Input(shape)` object as the first layer in the model instead.\n",
      "  super().__init__(activity_regularizer=activity_regularizer, **kwargs)\n"
     ]
    },
    {
     "ename": "TypeError",
     "evalue": "rubik.cube.Cube.get_piece() argument after * must be an iterable, not int",
     "output_type": "error",
     "traceback": [
      "\u001b[0;31m---------------------------------------------------------------------------\u001b[0m",
      "\u001b[0;31mTypeError\u001b[0m                                 Traceback (most recent call last)",
      "Cell \u001b[0;32mIn[104], line 3\u001b[0m\n\u001b[1;32m      1\u001b[0m network \u001b[38;5;241m=\u001b[39m NeuralNetwork()\n\u001b[1;32m      2\u001b[0m \u001b[38;5;28;01mwhile\u001b[39;00m \u001b[38;5;28;01mTrue\u001b[39;00m:\n\u001b[0;32m----> 3\u001b[0m \t\u001b[43mnetwork\u001b[49m\u001b[38;5;241;43m.\u001b[39;49m\u001b[43mtrain\u001b[49m\u001b[43m(\u001b[49m\u001b[38;5;241;43m1\u001b[39;49m\u001b[43m,\u001b[49m\u001b[43m \u001b[49m\u001b[38;5;241;43m1\u001b[39;49m\u001b[43m,\u001b[49m\u001b[43m \u001b[49m\u001b[38;5;241;43m10\u001b[39;49m\u001b[43m,\u001b[49m\u001b[43m \u001b[49m\u001b[38;5;241;43m.97\u001b[39;49m\u001b[43m)\u001b[49m\n",
      "Cell \u001b[0;32mIn[103], line 40\u001b[0m, in \u001b[0;36mNeuralNetwork.train\u001b[0;34m(self, games, e_greedy, epochs, discount)\u001b[0m\n\u001b[1;32m     38\u001b[0m \u001b[38;5;66;03m# iterate while the cube is not solved\u001b[39;00m\n\u001b[1;32m     39\u001b[0m \u001b[38;5;28;01mwhile\u001b[39;00m \u001b[38;5;129;01mnot\u001b[39;00m is_solved(instance):\n\u001b[0;32m---> 40\u001b[0m     states\u001b[38;5;241m.\u001b[39mappend(\u001b[43mone_hot\u001b[49m\u001b[43m(\u001b[49m\u001b[43minstance\u001b[49m\u001b[43m)\u001b[49m)\n\u001b[1;32m     42\u001b[0m     \u001b[38;5;28;01mif\u001b[39;00m random\u001b[38;5;241m.\u001b[39muniform(\u001b[38;5;241m0\u001b[39m,\u001b[38;5;241m1\u001b[39m) \u001b[38;5;241m<\u001b[39m\u001b[38;5;241m=\u001b[39m e_greedy:\n\u001b[1;32m     43\u001b[0m         sampled \u001b[38;5;241m=\u001b[39m scramble(instance, \u001b[38;5;241m1\u001b[39m)\n",
      "Cell \u001b[0;32mIn[101], line 39\u001b[0m, in \u001b[0;36mone_hot\u001b[0;34m(c)\u001b[0m\n\u001b[1;32m     36\u001b[0m one_hot_cube \u001b[38;5;241m=\u001b[39m []\n\u001b[1;32m     38\u001b[0m \u001b[38;5;66;03m# Iterate over the cube representation\u001b[39;00m\n\u001b[0;32m---> 39\u001b[0m \u001b[43m\u001b[49m\u001b[38;5;28;43;01mfor\u001b[39;49;00m\u001b[43m \u001b[49m\u001b[43mcubelet\u001b[49m\u001b[43m \u001b[49m\u001b[38;5;129;43;01min\u001b[39;49;00m\u001b[43m \u001b[49m\u001b[43mc\u001b[49m\u001b[43m:\u001b[49m\n\u001b[1;32m     40\u001b[0m \u001b[43m    \u001b[49m\u001b[38;5;66;43;03m# Initialize a one-hot vector for the current cubelet\u001b[39;49;00m\n\u001b[1;32m     41\u001b[0m \u001b[43m    \u001b[49m\u001b[43mone_hot_cubelet\u001b[49m\u001b[43m \u001b[49m\u001b[38;5;241;43m=\u001b[39;49m\u001b[43m \u001b[49m\u001b[43m[\u001b[49m\u001b[38;5;241;43m0\u001b[39;49m\u001b[43m]\u001b[49m\u001b[43m \u001b[49m\u001b[38;5;241;43m*\u001b[39;49m\u001b[43m \u001b[49m\u001b[43m(\u001b[49m\u001b[38;5;28;43mlen\u001b[39;49m\u001b[43m(\u001b[49m\u001b[43mcolors\u001b[49m\u001b[43m)\u001b[49m\u001b[43m \u001b[49m\u001b[38;5;241;43m*\u001b[39;49m\u001b[43m \u001b[49m\u001b[43mcube_size\u001b[49m\u001b[43m)\u001b[49m\n\u001b[1;32m     43\u001b[0m \u001b[43m    \u001b[49m\u001b[38;5;66;43;03m# Calculate the position index for the current cubelet\u001b[39;49;00m\n",
      "File \u001b[0;32m~/anaconda3/envs/RubikCube/lib/python3.11/site-packages/rubik/cube.py:275\u001b[0m, in \u001b[0;36mCube.__getitem__\u001b[0;34m(self, *args)\u001b[0m\n\u001b[1;32m    <a href='file:///Users/frankschweitzer/anaconda3/envs/RubikCube/lib/python3.11/site-packages/rubik/cube.py?line=272'>273</a>\u001b[0m \u001b[39mdef\u001b[39;00m \u001b[39m__getitem__\u001b[39m(\u001b[39mself\u001b[39m, \u001b[39m*\u001b[39margs):\n\u001b[1;32m    <a href='file:///Users/frankschweitzer/anaconda3/envs/RubikCube/lib/python3.11/site-packages/rubik/cube.py?line=273'>274</a>\u001b[0m     \u001b[39mif\u001b[39;00m \u001b[39mlen\u001b[39m(args) \u001b[39m==\u001b[39m \u001b[39m1\u001b[39m:\n\u001b[0;32m--> <a href='file:///Users/frankschweitzer/anaconda3/envs/RubikCube/lib/python3.11/site-packages/rubik/cube.py?line=274'>275</a>\u001b[0m         \u001b[39mreturn\u001b[39;00m \u001b[39mself\u001b[39;49m\u001b[39m.\u001b[39;49mget_piece(\u001b[39m*\u001b[39;49margs[\u001b[39m0\u001b[39;49m])\n\u001b[1;32m    <a href='file:///Users/frankschweitzer/anaconda3/envs/RubikCube/lib/python3.11/site-packages/rubik/cube.py?line=275'>276</a>\u001b[0m     \u001b[39mreturn\u001b[39;00m \u001b[39mself\u001b[39m\u001b[39m.\u001b[39mget_piece(\u001b[39m*\u001b[39margs)\n",
      "\u001b[0;31mTypeError\u001b[0m: rubik.cube.Cube.get_piece() argument after * must be an iterable, not int"
     ]
    }
   ],
   "source": [
    "network = NeuralNetwork()\n",
    "while True:\n",
    "\tnetwork.train(1, 1, 10, .97)"
   ]
  },
  {
   "cell_type": "code",
   "execution_count": null,
   "metadata": {},
   "outputs": [],
   "source": []
  }
 ],
 "metadata": {
  "interpreter": {
   "hash": "d57110a85783f4fcaea870cf452ac838bff2ca8a1a7f156fa31466f57c4b2c5d"
  },
  "kernelspec": {
   "display_name": "Python 3.11.7 ('RubikCube')",
   "language": "python",
   "name": "python3"
  },
  "language_info": {
   "codemirror_mode": {
    "name": "ipython",
    "version": 3
   },
   "file_extension": ".py",
   "mimetype": "text/x-python",
   "name": "python",
   "nbconvert_exporter": "python",
   "pygments_lexer": "ipython3",
   "version": "3.11.7"
  },
  "orig_nbformat": 4
 },
 "nbformat": 4,
 "nbformat_minor": 2
}
