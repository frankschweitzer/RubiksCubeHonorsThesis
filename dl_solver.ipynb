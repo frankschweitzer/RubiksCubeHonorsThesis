{
 "cells": [
  {
   "cell_type": "code",
   "execution_count": null,
   "metadata": {},
   "outputs": [],
   "source": []
  }
 ],
 "metadata": {
  "interpreter": {
   "hash": "d57110a85783f4fcaea870cf452ac838bff2ca8a1a7f156fa31466f57c4b2c5d"
  },
  "kernelspec": {
   "display_name": "Python 3.11.7 ('RubikCube')",
   "language": "python",
   "name": "python3"
  },
  "language_info": {
   "name": "python",
   "version": "3.11.7"
  },
  "orig_nbformat": 4
 },
 "nbformat": 4,
 "nbformat_minor": 2
}
