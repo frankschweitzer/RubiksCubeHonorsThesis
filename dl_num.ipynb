{
 "cells": [
  {
   "cell_type": "markdown",
   "metadata": {},
   "source": [
    "**Imports**"
   ]
  },
  {
   "cell_type": "code",
   "execution_count": 1,
   "metadata": {},
   "outputs": [
    {
     "name": "stderr",
     "output_type": "stream",
     "text": [
      "2024-04-01 13:27:28.435164: I tensorflow/core/platform/cpu_feature_guard.cc:210] This TensorFlow binary is optimized to use available CPU instructions in performance-critical operations.\n",
      "To enable the following instructions: AVX2 FMA, in other operations, rebuild TensorFlow with the appropriate compiler flags.\n"
     ]
    }
   ],
   "source": [
    "import numpy as np\n",
    "import tensorflow as tf\n",
    "# from tensorflow import keras\n",
    "from keras.models import Sequential\n",
    "from keras.layers import Dense, Dropout, InputLayer\n",
    "from keras.optimizers import Adam\n",
    "from keras.utils import plot_model"
   ]
  },
  {
   "cell_type": "markdown",
   "metadata": {},
   "source": [
    "**Network Architecture**"
   ]
  },
  {
   "cell_type": "code",
   "execution_count": 43,
   "metadata": {},
   "outputs": [],
   "source": [
    "model = Sequential()\n",
    "model.add(InputLayer(shape=(54,), name=\"input_layer\"))\n",
    "model.add(Dense(1024, activation='relu', name=\"hidden_layer_1\"))\n",
    "model.add(Dense(512, activation='relu', name=\"hidden_layer_2\"))\n",
    "model.add(Dense(256, activation='relu', name=\"hidden_layer_3\"))\n",
    "model.add(Dense(1, activation='linear', name=\"output_layer\"))"
   ]
  },
  {
   "cell_type": "markdown",
   "metadata": {},
   "source": [
    "**Model Compilation**"
   ]
  },
  {
   "cell_type": "code",
   "execution_count": 44,
   "metadata": {},
   "outputs": [],
   "source": [
    "model.compile(loss='mean_squared_error',\n",
    "              optimizer=Adam(learning_rate=2.5),\n",
    "              metrics=[\"mae\"])"
   ]
  },
  {
   "cell_type": "markdown",
   "metadata": {},
   "source": [
    "**Prepare Training Data**"
   ]
  },
  {
   "cell_type": "code",
   "execution_count": 45,
   "metadata": {},
   "outputs": [],
   "source": [
    "size = 30000\n",
    "train_samples, train_labels = np.zeros((size,54)), np.zeros((size, 1))\n",
    "\n",
    "f = open('dataset/training.0')\n",
    "for i in range(10000):\n",
    "    tmp_samples = np.asarray(f.readline().rstrip().split(' '))\n",
    "    tmp_samples[tmp_samples == 'w'] = 1\n",
    "    tmp_samples[tmp_samples == 'y'] = 2\n",
    "    tmp_samples[tmp_samples == 'r'] = 3\n",
    "    tmp_samples[tmp_samples == 'b'] = 4\n",
    "    tmp_samples[tmp_samples == 'g'] = 5\n",
    "    tmp_samples[tmp_samples == 'o'] = 6\n",
    "    train_samples[i,:] = tmp_samples.astype(int).reshape(1, 54)\n",
    "    \n",
    "    tmp_labels = f.readline().rstrip().split(' ')\n",
    "    train_labels[i] = (len(tmp_labels))\n",
    "    \n",
    "f.close()\n",
    "\n",
    "f = open('dataset/training.1')\n",
    "for i in range(10000):\n",
    "    tmp_samples = np.asarray(f.readline().rstrip().split(' '))\n",
    "    tmp_samples[tmp_samples == 'w'] = 1\n",
    "    tmp_samples[tmp_samples == 'y'] = 2\n",
    "    tmp_samples[tmp_samples == 'r'] = 3\n",
    "    tmp_samples[tmp_samples == 'b'] = 4\n",
    "    tmp_samples[tmp_samples == 'g'] = 5\n",
    "    tmp_samples[tmp_samples == 'o'] = 6\n",
    "    train_samples[(10000 + i),:] = tmp_samples.astype(int).reshape(1, 54)\n",
    "    \n",
    "    tmp_labels = f.readline().rstrip().split(' ')\n",
    "    train_labels[i] = (len(tmp_labels))\n",
    "    \n",
    "f.close()\n",
    "\n",
    "f = open('dataset/training.2')\n",
    "for i in range(10000):\n",
    "    tmp_samples = np.asarray(f.readline().rstrip().split(' '))\n",
    "    tmp_samples[tmp_samples == 'w'] = 1\n",
    "    tmp_samples[tmp_samples == 'y'] = 2\n",
    "    tmp_samples[tmp_samples == 'r'] = 3\n",
    "    tmp_samples[tmp_samples == 'b'] = 4\n",
    "    tmp_samples[tmp_samples == 'g'] = 5\n",
    "    tmp_samples[tmp_samples == 'o'] = 6\n",
    "    train_samples[(20000 + i),:] = tmp_samples.astype(int).reshape(1, 54)\n",
    "    \n",
    "    tmp_labels = f.readline().rstrip().split(' ')\n",
    "    if len(tmp_labels) == 0:\n",
    "        print(tmp_labels)\n",
    "    train_labels[i] = (len(tmp_labels))\n",
    "    \n",
    "f.close()"
   ]
  },
  {
   "cell_type": "markdown",
   "metadata": {},
   "source": [
    "**Fit Model**"
   ]
  },
  {
   "cell_type": "code",
   "execution_count": null,
   "metadata": {},
   "outputs": [],
   "source": [
    "history = model.fit(train_samples, train_labels, epochs=100, batch_size=32, validation_split=0.2)"
   ]
  },
  {
   "cell_type": "markdown",
   "metadata": {},
   "source": [
    "**Test Model**"
   ]
  },
  {
   "cell_type": "code",
   "execution_count": 118,
   "metadata": {},
   "outputs": [
    {
     "name": "stdout",
     "output_type": "stream",
     "text": [
      "\u001b[1m313/313\u001b[0m \u001b[32m━━━━━━━━━━━━━━━━━━━━\u001b[0m\u001b[37m\u001b[0m \u001b[1m1s\u001b[0m 2ms/step - loss: 1332.1885 - mae: 35.3196\n",
      "test_loss: [1338.357177734375, 35.37590026855469]\n"
     ]
    }
   ],
   "source": [
    "# prepare and preprocess test data\n",
    "size = 10000\n",
    "test_samples, test_labels = np.zeros((size,54)), np.zeros((size, 1))\n",
    "\n",
    "f = open('dataset/training.9')\n",
    "for i in range(10000):\n",
    "    tmp_samples = np.asarray(f.readline().rstrip().split(' '))\n",
    "    tmp_samples[tmp_samples == 'w'] = (1 / 54)\n",
    "    tmp_samples[tmp_samples == 'y'] = (2 / 54)\n",
    "    tmp_samples[tmp_samples == 'r'] = (3 / 54)\n",
    "    tmp_samples[tmp_samples == 'b'] = (4 / 54)\n",
    "    tmp_samples[tmp_samples == 'g'] = (5 / 54)\n",
    "    tmp_samples[tmp_samples == 'o'] = (6 / 54)\n",
    "    test_samples[i,:] = tmp_samples.astype(int).reshape(1, 54)\n",
    "    tmp_labels = f.readline().rstrip().split(' ')\n",
    "    test_labels[i] = (len(tmp_labels))\n",
    "\n",
    "# test model with test data\n",
    "test_loss = model.evaluate(test_samples, test_labels)\n",
    "print(f\"test_loss: {test_loss}\")"
   ]
  }
 ],
 "metadata": {
  "interpreter": {
   "hash": "d57110a85783f4fcaea870cf452ac838bff2ca8a1a7f156fa31466f57c4b2c5d"
  },
  "kernelspec": {
   "display_name": "Python 3.11.7 ('RubikCube')",
   "language": "python",
   "name": "python3"
  },
  "language_info": {
   "codemirror_mode": {
    "name": "ipython",
    "version": 3
   },
   "file_extension": ".py",
   "mimetype": "text/x-python",
   "name": "python",
   "nbconvert_exporter": "python",
   "pygments_lexer": "ipython3",
   "version": "3.11.7"
  },
  "orig_nbformat": 4
 },
 "nbformat": 4,
 "nbformat_minor": 2
}
